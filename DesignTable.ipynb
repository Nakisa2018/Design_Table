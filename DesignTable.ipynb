{
 "cells": [
  {
   "cell_type": "markdown",
   "id": "5c905073",
   "metadata": {},
   "source": [
    "# Design_table"
   ]
  },
  {
   "cell_type": "markdown",
   "id": "55b0d088",
   "metadata": {},
   "source": [
    "use prettytable lib <br>\n",
    "2 examples"
   ]
  },
  {
   "cell_type": "code",
   "execution_count": 4,
   "id": "c7eb33bb",
   "metadata": {},
   "outputs": [],
   "source": [
    "from prettytable import PrettyTable"
   ]
  },
  {
   "cell_type": "code",
   "execution_count": 5,
   "id": "853ed07a",
   "metadata": {},
   "outputs": [
    {
     "name": "stdout",
     "output_type": "stream",
     "text": [
      "['__class__', '__delattr__', '__dict__', '__dir__', '__doc__', '__eq__', '__format__', '__ge__', '__getattr__', '__getattribute__', '__getitem__', '__gt__', '__hash__', '__init__', '__init_subclass__', '__le__', '__lt__', '__module__', '__ne__', '__new__', '__reduce__', '__reduce_ex__', '__repr__', '__setattr__', '__sizeof__', '__str__', '__subclasshook__', '__weakref__', '_compute_table_width', '_compute_widths', '_format_row', '_format_rows', '_format_value', '_get_dividers', '_get_formatted_html_string', '_get_formatted_latex_string', '_get_options', '_get_padding_widths', '_get_rows', '_get_simple_html_string', '_get_simple_latex_string', '_justify', '_repr_html_', '_set_columns_style', '_set_default_style', '_set_double_border_style', '_set_markdown_style', '_set_msword_style', '_set_orgmode_style', '_set_random_style', '_set_single_border_style', '_stringify_header', '_stringify_hrule', '_stringify_row', '_stringify_title', '_validate_align', '_validate_all_field_names', '_validate_attributes', '_validate_field_name', '_validate_field_names', '_validate_float_format', '_validate_function', '_validate_header_style', '_validate_hrules', '_validate_int_format', '_validate_none_format', '_validate_nonnegative_int', '_validate_option', '_validate_single_char', '_validate_true_or_false', '_validate_valign', '_validate_vrules', 'add_autoindex', 'add_column', 'add_row', 'add_rows', 'align', 'attributes', 'border', 'bottom_junction_char', 'bottom_left_junction_char', 'bottom_right_junction_char', 'clear', 'clear_rows', 'copy', 'custom_format', 'del_column', 'del_row', 'dividers', 'end', 'field_names', 'fields', 'float_format', 'format', 'get_csv_string', 'get_formatted_string', 'get_html_string', 'get_json_string', 'get_latex_string', 'get_string', 'header', 'header_style', 'horizontal_align_char', 'horizontal_char', 'hrules', 'int_format', 'junction_char', 'left_junction_char', 'left_padding_width', 'max_table_width', 'max_width', 'min_table_width', 'min_width', 'none_format', 'oldsortslice', 'padding_width', 'paginate', 'preserve_internal_border', 'print_empty', 'reversesort', 'right_junction_char', 'right_padding_width', 'rows', 'set_style', 'sort_key', 'sortby', 'start', 'title', 'top_junction_char', 'top_left_junction_char', 'top_right_junction_char', 'valign', 'vertical_char', 'vrules', 'xhtml']\n"
     ]
    }
   ],
   "source": [
    "ss=dir(PrettyTable)\n",
    "print(ss)"
   ]
  },
  {
   "cell_type": "code",
   "execution_count": 6,
   "id": "f08f953e",
   "metadata": {},
   "outputs": [
    {
     "name": "stdout",
     "output_type": "stream",
     "text": [
      "+--------+--------+----------+\n",
      "|  Name  | Family |  phone   |\n",
      "+--------+--------+----------+\n",
      "|  Ali   | Riyahi | 09747747 |\n",
      "| maryam | Amiri  | 09789747 |\n",
      "|  neda  | moradi | 09789000 |\n",
      "+--------+--------+----------+\n"
     ]
    }
   ],
   "source": [
    "# exp #1\n",
    "\n",
    "from prettytable import PrettyTable\n",
    "t=PrettyTable([\"Name\",\"Family\",\"phone\"])\n",
    "t.add_row([\"Ali\",\"Riyahi\",\"09747747\"])\n",
    "t.add_row([\"maryam\",\"Amiri\",\"09789747\"])\n",
    "t.add_row([\"neda\",\"moradi\",\"09789000\"])\n",
    "print(t)"
   ]
  },
  {
   "cell_type": "code",
   "execution_count": 7,
   "id": "d104c15b",
   "metadata": {},
   "outputs": [
    {
     "name": "stdout",
     "output_type": "stream",
     "text": [
      "+----+----+----+----+----+----+----+----+----+-----+\n",
      "| 1  | 2  | 3  | 4  | 5  | 6  | 7  | 8  | 9  |  10 |\n",
      "+----+----+----+----+----+----+----+----+----+-----+\n",
      "| 1  | 2  | 3  | 4  | 5  | 6  | 7  | 8  | 9  |  10 |\n",
      "| 2  | 4  | 6  | 8  | 10 | 12 | 14 | 16 | 18 |  20 |\n",
      "| 3  | 6  | 9  | 12 | 15 | 18 | 21 | 24 | 27 |  30 |\n",
      "| 4  | 8  | 12 | 16 | 20 | 24 | 28 | 32 | 36 |  40 |\n",
      "| 5  | 10 | 15 | 20 | 25 | 30 | 35 | 40 | 45 |  50 |\n",
      "| 6  | 12 | 18 | 24 | 30 | 36 | 42 | 48 | 54 |  60 |\n",
      "| 7  | 14 | 21 | 28 | 35 | 42 | 49 | 56 | 63 |  70 |\n",
      "| 8  | 16 | 24 | 32 | 40 | 48 | 56 | 64 | 72 |  80 |\n",
      "| 9  | 18 | 27 | 36 | 45 | 54 | 63 | 72 | 81 |  90 |\n",
      "| 10 | 20 | 30 | 40 | 50 | 60 | 70 | 80 | 90 | 100 |\n",
      "+----+----+----+----+----+----+----+----+----+-----+\n"
     ]
    }
   ],
   "source": [
    "# exp #2 \n",
    "\n",
    "from prettytable import PrettyTable\n",
    "t=PrettyTable([\"1\",\"2\",\"3\",\"4\",\"5\",\"6\",\"7\",\"8\",\"9\",\"10\"])\n",
    "data_list=[]\n",
    "for i in range(1,11):\n",
    "    for j in range(1,11):\n",
    "        #print(f\"{i*j}\" , end=\" \")\n",
    "        a=i*j\n",
    "        a=str(a)\n",
    "        data_list +=[a]\n",
    "    t.add_row(data_list)\n",
    "    data_list=[]\n",
    "    \n",
    "print(t)"
   ]
  },
  {
   "cell_type": "markdown",
   "id": "4e167bb8",
   "metadata": {},
   "source": [
    "#### BestRegards\n",
    "#  Nakisa Tavakoli"
   ]
  },
  {
   "cell_type": "code",
   "execution_count": null,
   "id": "92e0029a",
   "metadata": {},
   "outputs": [],
   "source": []
  }
 ],
 "metadata": {
  "kernelspec": {
   "display_name": "Python 3 (ipykernel)",
   "language": "python",
   "name": "python3"
  },
  "language_info": {
   "codemirror_mode": {
    "name": "ipython",
    "version": 3
   },
   "file_extension": ".py",
   "mimetype": "text/x-python",
   "name": "python",
   "nbconvert_exporter": "python",
   "pygments_lexer": "ipython3",
   "version": "3.10.5"
  }
 },
 "nbformat": 4,
 "nbformat_minor": 5
}
